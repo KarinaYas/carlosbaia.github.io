{
 "cells": [
  {
   "cell_type": "markdown",
   "metadata": {},
   "source": [
    "# Grupy-SP\n",
    "## Combate à fraude com Deep Learning\n",
    "### Carlos Baia - carlosbaia.com"
   ]
  },
  {
   "cell_type": "markdown",
   "metadata": {},
   "source": [
    "# Dados\n",
    "\n",
    "Os dados podem ser baixados em: https://www.kaggle.com/dalpozz/creditcardfraud"
   ]
  },
  {
   "cell_type": "code",
   "execution_count": 90,
   "metadata": {
    "scrolled": true
   },
   "outputs": [
    {
     "data": {
      "text/html": [
       "<div>\n",
       "<style>\n",
       "    .dataframe thead tr:only-child th {\n",
       "        text-align: right;\n",
       "    }\n",
       "\n",
       "    .dataframe thead th {\n",
       "        text-align: left;\n",
       "    }\n",
       "\n",
       "    .dataframe tbody tr th {\n",
       "        vertical-align: top;\n",
       "    }\n",
       "</style>\n",
       "<table border=\"1\" class=\"dataframe\">\n",
       "  <thead>\n",
       "    <tr style=\"text-align: right;\">\n",
       "      <th></th>\n",
       "      <th>Time</th>\n",
       "      <th>V1</th>\n",
       "      <th>V2</th>\n",
       "      <th>V3</th>\n",
       "      <th>V4</th>\n",
       "      <th>V5</th>\n",
       "      <th>V6</th>\n",
       "      <th>V7</th>\n",
       "      <th>V8</th>\n",
       "      <th>V9</th>\n",
       "      <th>...</th>\n",
       "      <th>V21</th>\n",
       "      <th>V22</th>\n",
       "      <th>V23</th>\n",
       "      <th>V24</th>\n",
       "      <th>V25</th>\n",
       "      <th>V26</th>\n",
       "      <th>V27</th>\n",
       "      <th>V28</th>\n",
       "      <th>Amount</th>\n",
       "      <th>Class</th>\n",
       "    </tr>\n",
       "  </thead>\n",
       "  <tbody>\n",
       "    <tr>\n",
       "      <th>0</th>\n",
       "      <td>0.0</td>\n",
       "      <td>-1.359807</td>\n",
       "      <td>-0.072781</td>\n",
       "      <td>2.536347</td>\n",
       "      <td>1.378155</td>\n",
       "      <td>-0.338321</td>\n",
       "      <td>0.462388</td>\n",
       "      <td>0.239599</td>\n",
       "      <td>0.098698</td>\n",
       "      <td>0.363787</td>\n",
       "      <td>...</td>\n",
       "      <td>-0.018307</td>\n",
       "      <td>0.277838</td>\n",
       "      <td>-0.110474</td>\n",
       "      <td>0.066928</td>\n",
       "      <td>0.128539</td>\n",
       "      <td>-0.189115</td>\n",
       "      <td>0.133558</td>\n",
       "      <td>-0.021053</td>\n",
       "      <td>149.62</td>\n",
       "      <td>0</td>\n",
       "    </tr>\n",
       "    <tr>\n",
       "      <th>1</th>\n",
       "      <td>0.0</td>\n",
       "      <td>1.191857</td>\n",
       "      <td>0.266151</td>\n",
       "      <td>0.166480</td>\n",
       "      <td>0.448154</td>\n",
       "      <td>0.060018</td>\n",
       "      <td>-0.082361</td>\n",
       "      <td>-0.078803</td>\n",
       "      <td>0.085102</td>\n",
       "      <td>-0.255425</td>\n",
       "      <td>...</td>\n",
       "      <td>-0.225775</td>\n",
       "      <td>-0.638672</td>\n",
       "      <td>0.101288</td>\n",
       "      <td>-0.339846</td>\n",
       "      <td>0.167170</td>\n",
       "      <td>0.125895</td>\n",
       "      <td>-0.008983</td>\n",
       "      <td>0.014724</td>\n",
       "      <td>2.69</td>\n",
       "      <td>0</td>\n",
       "    </tr>\n",
       "    <tr>\n",
       "      <th>2</th>\n",
       "      <td>1.0</td>\n",
       "      <td>-1.358354</td>\n",
       "      <td>-1.340163</td>\n",
       "      <td>1.773209</td>\n",
       "      <td>0.379780</td>\n",
       "      <td>-0.503198</td>\n",
       "      <td>1.800499</td>\n",
       "      <td>0.791461</td>\n",
       "      <td>0.247676</td>\n",
       "      <td>-1.514654</td>\n",
       "      <td>...</td>\n",
       "      <td>0.247998</td>\n",
       "      <td>0.771679</td>\n",
       "      <td>0.909412</td>\n",
       "      <td>-0.689281</td>\n",
       "      <td>-0.327642</td>\n",
       "      <td>-0.139097</td>\n",
       "      <td>-0.055353</td>\n",
       "      <td>-0.059752</td>\n",
       "      <td>378.66</td>\n",
       "      <td>0</td>\n",
       "    </tr>\n",
       "    <tr>\n",
       "      <th>3</th>\n",
       "      <td>1.0</td>\n",
       "      <td>-0.966272</td>\n",
       "      <td>-0.185226</td>\n",
       "      <td>1.792993</td>\n",
       "      <td>-0.863291</td>\n",
       "      <td>-0.010309</td>\n",
       "      <td>1.247203</td>\n",
       "      <td>0.237609</td>\n",
       "      <td>0.377436</td>\n",
       "      <td>-1.387024</td>\n",
       "      <td>...</td>\n",
       "      <td>-0.108300</td>\n",
       "      <td>0.005274</td>\n",
       "      <td>-0.190321</td>\n",
       "      <td>-1.175575</td>\n",
       "      <td>0.647376</td>\n",
       "      <td>-0.221929</td>\n",
       "      <td>0.062723</td>\n",
       "      <td>0.061458</td>\n",
       "      <td>123.50</td>\n",
       "      <td>0</td>\n",
       "    </tr>\n",
       "    <tr>\n",
       "      <th>4</th>\n",
       "      <td>2.0</td>\n",
       "      <td>-1.158233</td>\n",
       "      <td>0.877737</td>\n",
       "      <td>1.548718</td>\n",
       "      <td>0.403034</td>\n",
       "      <td>-0.407193</td>\n",
       "      <td>0.095921</td>\n",
       "      <td>0.592941</td>\n",
       "      <td>-0.270533</td>\n",
       "      <td>0.817739</td>\n",
       "      <td>...</td>\n",
       "      <td>-0.009431</td>\n",
       "      <td>0.798278</td>\n",
       "      <td>-0.137458</td>\n",
       "      <td>0.141267</td>\n",
       "      <td>-0.206010</td>\n",
       "      <td>0.502292</td>\n",
       "      <td>0.219422</td>\n",
       "      <td>0.215153</td>\n",
       "      <td>69.99</td>\n",
       "      <td>0</td>\n",
       "    </tr>\n",
       "  </tbody>\n",
       "</table>\n",
       "<p>5 rows × 31 columns</p>\n",
       "</div>"
      ],
      "text/plain": [
       "   Time        V1        V2        V3        V4        V5        V6        V7  \\\n",
       "0   0.0 -1.359807 -0.072781  2.536347  1.378155 -0.338321  0.462388  0.239599   \n",
       "1   0.0  1.191857  0.266151  0.166480  0.448154  0.060018 -0.082361 -0.078803   \n",
       "2   1.0 -1.358354 -1.340163  1.773209  0.379780 -0.503198  1.800499  0.791461   \n",
       "3   1.0 -0.966272 -0.185226  1.792993 -0.863291 -0.010309  1.247203  0.237609   \n",
       "4   2.0 -1.158233  0.877737  1.548718  0.403034 -0.407193  0.095921  0.592941   \n",
       "\n",
       "         V8        V9  ...         V21       V22       V23       V24  \\\n",
       "0  0.098698  0.363787  ...   -0.018307  0.277838 -0.110474  0.066928   \n",
       "1  0.085102 -0.255425  ...   -0.225775 -0.638672  0.101288 -0.339846   \n",
       "2  0.247676 -1.514654  ...    0.247998  0.771679  0.909412 -0.689281   \n",
       "3  0.377436 -1.387024  ...   -0.108300  0.005274 -0.190321 -1.175575   \n",
       "4 -0.270533  0.817739  ...   -0.009431  0.798278 -0.137458  0.141267   \n",
       "\n",
       "        V25       V26       V27       V28  Amount  Class  \n",
       "0  0.128539 -0.189115  0.133558 -0.021053  149.62      0  \n",
       "1  0.167170  0.125895 -0.008983  0.014724    2.69      0  \n",
       "2 -0.327642 -0.139097 -0.055353 -0.059752  378.66      0  \n",
       "3  0.647376 -0.221929  0.062723  0.061458  123.50      0  \n",
       "4 -0.206010  0.502292  0.219422  0.215153   69.99      0  \n",
       "\n",
       "[5 rows x 31 columns]"
      ]
     },
     "execution_count": 90,
     "metadata": {},
     "output_type": "execute_result"
    }
   ],
   "source": [
    "# Carregando os dados\n",
    "import pandas as pd\n",
    "\n",
    "df = pd.read_csv('creditcard.csv')\n",
    "df.head()"
   ]
  },
  {
   "cell_type": "code",
   "execution_count": 91,
   "metadata": {},
   "outputs": [
    {
     "data": {
      "text/plain": [
       "0    284315\n",
       "1       492\n",
       "Name: Class, dtype: int64"
      ]
     },
     "execution_count": 91,
     "metadata": {},
     "output_type": "execute_result"
    }
   ],
   "source": [
    "# Vendo as quantidades de cada classe\n",
    "# 0 = Não fraude\n",
    "# 1 = Fraude\n",
    "df.Class.value_counts()"
   ]
  },
  {
   "cell_type": "code",
   "execution_count": 92,
   "metadata": {},
   "outputs": [
    {
     "data": {
      "image/png": "[encoded data removed]",
      "text/plain": [
       "<matplotlib.figure.Figure at 0x288ad5492b0>"
      ]
     },
     "metadata": {},
     "output_type": "display_data"
    }
   ],
   "source": [
    "# Plotando essas quantidades\n",
    "import matplotlib.pyplot as plt\n",
    "%matplotlib inline\n",
    "\n",
    "df.Class.value_counts().plot(kind='pie', autopct='%.2f%%', figsize=(5, 5));"
   ]
  },
  {
   "cell_type": "code",
   "execution_count": 93,
   "metadata": {},
   "outputs": [
    {
     "name": "stdout",
     "output_type": "stream",
     "text": [
      "Período: 2 dias em Setembro de 2013\n",
      "Transações: 284807\n",
      "FRAUDES\n",
      " Quantidade:  492\n",
      " Valor total: R$ 60127.97\n",
      " Valor médio: R$   122.21\n",
      " Valor maior: R$  2125.87\n"
     ]
    }
   ],
   "source": [
    "# Plotando informações da base\n",
    "print('Período: 2 dias em Setembro de 2013')\n",
    "print('Transações:', len(df))\n",
    "print('FRAUDES')\n",
    "print(' Quantidade: ', df[df.Class == 1].Amount.count())\n",
    "print(' Valor total: R$ {:8.2f}'.format(df[df.Class == 1].Amount.sum()))\n",
    "print(' Valor médio: R$ {:8.2f}'.format(df[df.Class == 1].Amount.mean()))\n",
    "print(' Valor maior: R$ {:8.2f}'.format(df[df.Class == 1].Amount.max()))"
   ]
  },
  {
   "cell_type": "code",
   "execution_count": 94,
   "metadata": {},
   "outputs": [
    {
     "data": {
      "image/png": "[encoded data removed]",
      "text/plain": [
       "<matplotlib.figure.Figure at 0x288ad558f98>"
      ]
     },
     "metadata": {},
     "output_type": "display_data"
    }
   ],
   "source": [
    "# Plotando distribuição dos valores entre as não fraudes (azul) e fraudes (vermelho)\n",
    "import seaborn as sns\n",
    "\n",
    "fig, (ax1, ax2) = plt.subplots(1, 2)\n",
    "sns.violinplot('Class', 'Amount', data=df[df.Class == 0], ax=ax1)\n",
    "sns.violinplot('Class', 'Amount', data=df[df.Class == 1], ax=ax2, color='red');"
   ]
  },
  {
   "cell_type": "markdown",
   "metadata": {},
   "source": [
    "# Preparando os dados para o treinamento"
   ]
  },
  {
   "cell_type": "code",
   "execution_count": 95,
   "metadata": {},
   "outputs": [
    {
     "name": "stdout",
     "output_type": "stream",
     "text": [
      "Inputs: 29\n",
      "Features: V1 V2 V3 V4 V5 V6 V7 V8 V9 V10 V11 V12 V13 V14 V15 V16 V17 V18 V19 V20 V21 V22 V23 V24 V25 V26 V27 V28 Amount\n"
     ]
    }
   ],
   "source": [
    "from sklearn.model_selection import train_test_split\n",
    "import numpy as np\n",
    "import tensorflow as tf\n",
    "import tflearn\n",
    "import scipy.stats as ss\n",
    "\n",
    "features = df.columns.drop(['Time', 'Class'])  # Removendo campos que não serão usandos como features\n",
    "X = df[features].values                        # Jogando os valores da features em X\n",
    "y = df.Class                                   # Jogando os valores da saídas em y\n",
    "\n",
    "X_norm = ss.zscore(X, axis=1)                  # Aplicando Z-Score em X para normalizar os dados\n",
    "\n",
    "# Divindo a base em 2 partes, uma para treinamento e outra para testar o treinamento.\n",
    "# Isso é necessario, pois ao validar com dados que não usei para treinar tenho\n",
    "# garantia de que não foi apenas uma memorização.\n",
    "X_train, X_test, y_train, y_test = train_test_split(X_norm, y, test_size=0.33, random_state=1986, stratify=y)\n",
    "\n",
    "# Mudando formato da saída (y) para o esperado pela rede neural\n",
    "targets = np.array([0, 1])\n",
    "y_train2 = (y_train.values.reshape((-1, 1)) == targets).astype(np.uint8)\n",
    "y_test2 = (y_test.values.reshape((-1, 1)) == targets).astype(np.uint8)\n",
    "\n",
    "n_features = len(features)\n",
    "print('Inputs:', n_features)\n",
    "print('Features:', ' '.join(features))"
   ]
  },
  {
   "cell_type": "markdown",
   "metadata": {},
   "source": [
    "## Aprendizado Supervisionado\n",
    "### Classification\n",
    "Usando as classificações que dizem ser fraude ou não para o treinamento"
   ]
  },
  {
   "cell_type": "code",
   "execution_count": 54,
   "metadata": {},
   "outputs": [
    {
     "name": "stdout",
     "output_type": "stream",
     "text": [
      "Training Step: 18649  | total loss: \u001b[1m\u001b[32m0.00516\u001b[0m\u001b[0m | time: 4.001s\n",
      "| Adam | epoch: 050 | loss: 0.00516 - acc: 0.9988 -- iter: 190464/190820\n",
      "Training Step: 18650  | total loss: \u001b[1m\u001b[32m0.00517\u001b[0m\u001b[0m | time: 5.210s\n",
      "| Adam | epoch: 050 | loss: 0.00517 - acc: 0.9985 | val_loss: 0.00339 - val_acc: 0.9993 -- iter: 190820/190820\n",
      "--\n",
      "Wall time: 6min 16s\n"
     ]
    }
   ],
   "source": [
    "%%time\n",
    "tf.reset_default_graph()\n",
    "\n",
    "# Montando a arquitetura da rede, 4 camadas com 29-32-32-2 neuronios.\n",
    "net = tflearn.input_data((None, n_features))\n",
    "net = tflearn.fully_connected(net, 32, activation='tanh')\n",
    "net = tflearn.dropout(net, 0.6)\n",
    "net = tflearn.fully_connected(net, 32, activation='tanh')\n",
    "net = tflearn.dropout(net, 0.6)\n",
    "net = tflearn.fully_connected(net, 2, activation='softmax')\n",
    "net = tflearn.regression(net, learning_rate=1e-3)\n",
    "model = tflearn.DNN(net)\n",
    "\n",
    "# Executando o treinamento, esse linha pode se repetida\n",
    "# caso queira continuar o treinamento de onde parou.\n",
    "model.fit(X_train, y_train2, n_epoch=50, batch_size=512, show_metric=True,\n",
    "          validation_set=(X_test, y_test2), shuffle=True, run_id='classification')"
   ]
  },
  {
   "cell_type": "code",
   "execution_count": 55,
   "metadata": {},
   "outputs": [
    {
     "name": "stdout",
     "output_type": "stream",
     "text": [
      "F1 Score: 0.790996784566\n"
     ]
    },
    {
     "data": {
      "text/plain": [
       "array([[93799,    26],\n",
       "       [   39,   123]])"
      ]
     },
     "execution_count": 55,
     "metadata": {},
     "output_type": "execute_result"
    }
   ],
   "source": [
    "from sklearn.metrics import confusion_matrix, f1_score\n",
    "\n",
    "# Fazendo as predições na base de teste.\n",
    "y_test_pred = model.predict(X_test)\n",
    "\n",
    "# Gerando o F1 score para medir a eficiência.\n",
    "# F1 Score vai de 0 até 1, sendo que 1 significa que acertou tudo.\n",
    "print('F1 Score:', f1_score(np.argmax(y_test2, axis=1), np.argmax(y_test_pred, axis=1)))\n",
    "\n",
    "# Gerando a matriz da confusão para ver os acertos e erros de cada classificação.\n",
    "cm = confusion_matrix(np.argmax(y_test2, axis=1), np.argmax(y_test_pred, axis=1))"
   ]
  },
  {
   "cell_type": "code",
   "execution_count": 56,
   "metadata": {},
   "outputs": [
    {
     "data": {
      "image/png": "[encoded data removed]",
      "text/plain": [
       "<matplotlib.figure.Figure at 0x288b71f9f28>"
      ]
     },
     "metadata": {},
     "output_type": "display_data"
    }
   ],
   "source": [
    "# Plotando a matriz da confusão\n",
    "import itertools\n",
    "\n",
    "def confusion_matrix(cm, ax, classes):\n",
    "    ax.imshow(([[1, 0], [0, 1]]), interpolation='nearest', cmap=plt.cm.Set1)\n",
    "    tick_marks = np.arange(len(classes))\n",
    "    ax.set_xticks(tick_marks)\n",
    "    ax.set_yticks(tick_marks)\n",
    "    ax.set_xticklabels(classes)\n",
    "    ax.set_yticklabels(classes)\n",
    "    ax.grid()\n",
    "    ax.set_title('Confusion Matrix')\n",
    "    ncm = 100 * cm.astype('float') / cm.sum(axis=1)[:, np.newaxis]\n",
    "    labels = [['True Negative', 'False Positive'], ['False Negative', 'True Positive']]\n",
    "    for i, j in itertools.product(range(cm.shape[0]), range(cm.shape[1])):\n",
    "        ax.text(j, i, '%s\\n%d\\n%.2f%%' % (labels[i][j], cm[i, j], ncm[i, j]), horizontalalignment='center',\n",
    "                verticalalignment='center')\n",
    "    plt.tight_layout()\n",
    "    ax.set_ylabel('True Condition')\n",
    "    ax.set_xlabel('Predicted Condition')\n",
    "    return ax\n",
    "\n",
    "fig, ax = plt.subplots()\n",
    "confusion_matrix(cm, ax, ['Non Fraud', 'Fraud']);"
   ]
  },
  {
   "cell_type": "markdown",
   "metadata": {},
   "source": [
    "# Aprendizado Não Supervisionado\n",
    "### Label Encoder\n",
    "Sem usar as classificações que dizem ser fraude ou não para o treinamento, apenas para verificarmos no fim se ficou bom."
   ]
  },
  {
   "cell_type": "code",
   "execution_count": 64,
   "metadata": {
    "scrolled": false
   },
   "outputs": [
    {
     "name": "stdout",
     "output_type": "stream",
     "text": [
      "Training Step: 16709  | total loss: \u001b[1m\u001b[32m0.57613\u001b[0m\u001b[0m | time: 3.576s\n",
      "| Adam | epoch: 030 | loss: 0.57613 -- iter: 284672/284807\n",
      "Training Step: 16710  | total loss: \u001b[1m\u001b[32m0.57593\u001b[0m\u001b[0m | time: 3.582s\n",
      "| Adam | epoch: 030 | loss: 0.57593 -- iter: 284807/284807\n",
      "--\n",
      "Wall time: 1min 34s\n"
     ]
    }
   ],
   "source": [
    "%%time\n",
    "tf.reset_default_graph()\n",
    "\n",
    "# Criando encoder\n",
    "encoder = tflearn.input_data(shape=(None, n_features))\n",
    "encoder = tflearn.fully_connected(encoder, 20, activation='tanh')\n",
    "encoder = tflearn.fully_connected(encoder, 10, activation='tanh')\n",
    "encoder = tflearn.fully_connected(encoder, 5, activation='tanh')\n",
    "\n",
    "# Criando decoder\n",
    "decoder = tflearn.fully_connected(encoder, 10, activation='tanh')\n",
    "encoder = tflearn.fully_connected(decoder, 20, activation='tanh')\n",
    "decoder = tflearn.fully_connected(decoder, n_features, activation='tanh')\n",
    "\n",
    "# Regression, usando métrica mean square error\n",
    "net = tflearn.regression(decoder, optimizer='adam', learning_rate=0.01, loss='mean_square', metric=None)\n",
    "model = tflearn.DNN(net)\n",
    "\n",
    "# Executando o treinamento\n",
    "model.fit(X_norm, X_norm, n_epoch=15, batch_size=512, show_metric=True, shuffle=True, run_id='auto_encoder')"
   ]
  },
  {
   "cell_type": "code",
   "execution_count": 89,
   "metadata": {},
   "outputs": [
    {
     "name": "stdout",
     "output_type": "stream",
     "text": [
      "Threshold:  0.644575454986\n"
     ]
    },
    {
     "data": {
      "text/html": [
       "<div>\n",
       "<style>\n",
       "    .dataframe thead tr:only-child th {\n",
       "        text-align: right;\n",
       "    }\n",
       "\n",
       "    .dataframe thead th {\n",
       "        text-align: left;\n",
       "    }\n",
       "\n",
       "    .dataframe tbody tr th {\n",
       "        vertical-align: top;\n",
       "    }\n",
       "</style>\n",
       "<table border=\"1\" class=\"dataframe\">\n",
       "  <thead>\n",
       "    <tr style=\"text-align: right;\">\n",
       "      <th></th>\n",
       "      <th>Class Count</th>\n",
       "      <th>Predicted Class Count</th>\n",
       "      <th>Hit Rate</th>\n",
       "    </tr>\n",
       "  </thead>\n",
       "  <tbody>\n",
       "    <tr>\n",
       "      <th>0</th>\n",
       "      <td>284315</td>\n",
       "      <td>8291</td>\n",
       "      <td>2.916132</td>\n",
       "    </tr>\n",
       "    <tr>\n",
       "      <th>1</th>\n",
       "      <td>492</td>\n",
       "      <td>254</td>\n",
       "      <td>51.626016</td>\n",
       "    </tr>\n",
       "  </tbody>\n",
       "</table>\n",
       "</div>"
      ],
      "text/plain": [
       "   Class Count  Predicted Class Count   Hit Rate\n",
       "0       284315                   8291   2.916132\n",
       "1          492                    254  51.626016"
      ]
     },
     "execution_count": 89,
     "metadata": {},
     "output_type": "execute_result"
    }
   ],
   "source": [
    "# Usando modelo treinado\n",
    "X_norm_pred = model.predict(X_norm)\n",
    "\n",
    "# Pegando os erros, os maiores tendem a ser quem foge do padrão.\n",
    "errors = np.mean((X_norm - X_norm_pred)**2, axis=1)\n",
    "\n",
    "def show_stats(indexes):\n",
    "    class_counts = pd.value_counts(y)\n",
    "    pred_class_counts = pd.value_counts(y[indexes])\n",
    "    return pd.concat((class_counts,\n",
    "                      pred_class_counts,\n",
    "                      100 * pred_class_counts / class_counts),\n",
    "                     keys=['Class Count', 'Predicted Class Count', 'Hit Rate'],\n",
    "                     axis=1)\n",
    "\n",
    "\n",
    "def show_stats_of_highest_errors(number_of_values):\n",
    "    threshold_index = int(len(errors) - number_of_values)\n",
    "    threshold_value = np.sort(errors)[threshold_index]\n",
    "    print('Threshold: ', threshold_value)\n",
    "    indexes = np.where(errors >= threshold_value)[0]\n",
    "    return show_stats(indexes)\n",
    "\n",
    "# Imprimindo os 3% maiores erros e achamos 50% das fraude ali\n",
    "show_stats_of_highest_errors(len(errors) * 0.03)"
   ]
  },
  {
   "cell_type": "code",
   "execution_count": 67,
   "metadata": {},
   "outputs": [
    {
     "data": {
      "text/html": [
       "<div>\n",
       "<style>\n",
       "    .dataframe thead tr:only-child th {\n",
       "        text-align: right;\n",
       "    }\n",
       "\n",
       "    .dataframe thead th {\n",
       "        text-align: left;\n",
       "    }\n",
       "\n",
       "    .dataframe tbody tr th {\n",
       "        vertical-align: top;\n",
       "    }\n",
       "</style>\n",
       "<table border=\"1\" class=\"dataframe\">\n",
       "  <thead>\n",
       "    <tr style=\"text-align: right;\">\n",
       "      <th></th>\n",
       "      <th>Class Count</th>\n",
       "      <th>Predicted Class Count</th>\n",
       "      <th>Hit Rate</th>\n",
       "    </tr>\n",
       "  </thead>\n",
       "  <tbody>\n",
       "    <tr>\n",
       "      <th>0</th>\n",
       "      <td>284315</td>\n",
       "      <td>100.0</td>\n",
       "      <td>0.035172</td>\n",
       "    </tr>\n",
       "    <tr>\n",
       "      <th>1</th>\n",
       "      <td>492</td>\n",
       "      <td>0.0</td>\n",
       "      <td>0.000000</td>\n",
       "    </tr>\n",
       "  </tbody>\n",
       "</table>\n",
       "</div>"
      ],
      "text/plain": [
       "   Class Count  Predicted Class Count  Hit Rate\n",
       "0       284315                  100.0  0.035172\n",
       "1          492                    0.0  0.000000"
      ]
     },
     "execution_count": 67,
     "metadata": {},
     "output_type": "execute_result"
    }
   ],
   "source": [
    "# Pegando 100 amostras aleatórios e dificilmente vem fraude, pois é apenas 0.17% da base.\n",
    "show_stats(df.sample(100).index).fillna(0)"
   ]
  },
  {
   "cell_type": "code",
   "execution_count": 82,
   "metadata": {},
   "outputs": [
    {
     "name": "stdout",
     "output_type": "stream",
     "text": [
      "Threshold:  0.986156039278\n"
     ]
    },
    {
     "data": {
      "text/html": [
       "<div>\n",
       "<style>\n",
       "    .dataframe thead tr:only-child th {\n",
       "        text-align: right;\n",
       "    }\n",
       "\n",
       "    .dataframe thead th {\n",
       "        text-align: left;\n",
       "    }\n",
       "\n",
       "    .dataframe tbody tr th {\n",
       "        vertical-align: top;\n",
       "    }\n",
       "</style>\n",
       "<table border=\"1\" class=\"dataframe\">\n",
       "  <thead>\n",
       "    <tr style=\"text-align: right;\">\n",
       "      <th></th>\n",
       "      <th>Class Count</th>\n",
       "      <th>Predicted Class Count</th>\n",
       "      <th>Hit Rate</th>\n",
       "    </tr>\n",
       "  </thead>\n",
       "  <tbody>\n",
       "    <tr>\n",
       "      <th>0</th>\n",
       "      <td>284315</td>\n",
       "      <td>73</td>\n",
       "      <td>0.025676</td>\n",
       "    </tr>\n",
       "    <tr>\n",
       "      <th>1</th>\n",
       "      <td>492</td>\n",
       "      <td>27</td>\n",
       "      <td>5.487805</td>\n",
       "    </tr>\n",
       "  </tbody>\n",
       "</table>\n",
       "</div>"
      ],
      "text/plain": [
       "   Class Count  Predicted Class Count  Hit Rate\n",
       "0       284315                     73  0.025676\n",
       "1          492                     27  5.487805"
      ]
     },
     "execution_count": 82,
     "metadata": {},
     "output_type": "execute_result"
    }
   ],
   "source": [
    "# Pegando os 100 maiores erros e temos 27 fraudes :)\n",
    "show_stats_of_highest_errors(100)"
   ]
  },
  {
   "cell_type": "code",
   "execution_count": 73,
   "metadata": {},
   "outputs": [
    {
     "data": {
      "image/png": "[encoded data removed]",
      "text/plain": [
       "<matplotlib.figure.Figure at 0x288b52145f8>"
      ]
     },
     "metadata": {},
     "output_type": "display_data"
    }
   ],
   "source": [
    "# Plotando a distribuição dos erros das não fraudes (azul) e das fraudes (vermelho).\n",
    "# Podemos notar que existe uma separação próximo ao erro de 0.6.\n",
    "fig, (ax1, ax2) = plt.subplots(1, 2, sharex=True, figsize=(15, 4))\n",
    "sns.distplot(errors[np.where(y == 0)], ax=ax1)\n",
    "sns.distplot(errors[np.where(y == 1)], ax=ax2, color='r');"
   ]
  }
 ],
 "metadata": {
  "kernelspec": {
   "display_name": "Python 3",
   "language": "python",
   "name": "python3"
  },
  "language_info": {
   "codemirror_mode": {
    "name": "ipython",
    "version": 3
   },
   "file_extension": ".py",
   "mimetype": "text/x-python",
   "name": "python",
   "nbconvert_exporter": "python",
   "pygments_lexer": "ipython3",
   "version": "3.6.0"
  }
 },
 "nbformat": 4,
 "nbformat_minor": 2
}
