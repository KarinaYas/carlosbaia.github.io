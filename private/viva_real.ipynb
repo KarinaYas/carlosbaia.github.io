{
 "cells": [
  {
   "cell_type": "markdown",
   "metadata": {},
   "source": [
    "# Viva Real Code Challenge\n",
    "\n",
    "Implementação do desafio de regressão da Viva Real.\n",
    "\n",
    "http://vivareal.github.io/data-science-challenge/\n",
    "\n",
    "Desenvolvido em Python."
   ]
  },
  {
   "cell_type": "markdown",
   "metadata": {},
   "source": [
    "# Leitura e analise dos dados"
   ]
  },
  {
   "cell_type": "code",
   "execution_count": 1,
   "metadata": {
    "collapsed": false
   },
   "outputs": [
    {
     "data": {
      "text/html": [
       "<div>\n",
       "<table border=\"1\" class=\"dataframe\">\n",
       "  <thead>\n",
       "    <tr style=\"text-align: right;\">\n",
       "      <th></th>\n",
       "      <th>id</th>\n",
       "      <th>feature_0</th>\n",
       "      <th>feature_1</th>\n",
       "      <th>feature_2</th>\n",
       "      <th>feature_3</th>\n",
       "      <th>feature_4</th>\n",
       "      <th>feature_5</th>\n",
       "      <th>feature_6</th>\n",
       "      <th>feature_7</th>\n",
       "      <th>feature_8</th>\n",
       "      <th>...</th>\n",
       "      <th>feature_11</th>\n",
       "      <th>feature_12</th>\n",
       "      <th>feature_13</th>\n",
       "      <th>feature_14</th>\n",
       "      <th>feature_15</th>\n",
       "      <th>feature_16</th>\n",
       "      <th>feature_17</th>\n",
       "      <th>feature_18</th>\n",
       "      <th>feature_19</th>\n",
       "      <th>target</th>\n",
       "    </tr>\n",
       "  </thead>\n",
       "  <tbody>\n",
       "    <tr>\n",
       "      <th>0</th>\n",
       "      <td>1</td>\n",
       "      <td>NaN</td>\n",
       "      <td>7bb0edd98f22430a03b6</td>\n",
       "      <td>43347709c539b56b0e08</td>\n",
       "      <td>89562dccfeb1d0394b9a</td>\n",
       "      <td>e546784dabc7c0baa399</td>\n",
       "      <td>c8842986d4a9e0bd9cd0</td>\n",
       "      <td>94e94133f4bdc1794c6b</td>\n",
       "      <td>3.628345</td>\n",
       "      <td>128</td>\n",
       "      <td>...</td>\n",
       "      <td>10</td>\n",
       "      <td>56688.435956</td>\n",
       "      <td>18ff74f43da410c5529f</td>\n",
       "      <td>56688.435956</td>\n",
       "      <td>0.719955</td>\n",
       "      <td>-48.549454</td>\n",
       "      <td>6d1dc6a272b972d037d2</td>\n",
       "      <td>456a29cf32ae45eac03f</td>\n",
       "      <td>5fb1f955b45e38e31789</td>\n",
       "      <td>39.422747</td>\n",
       "    </tr>\n",
       "    <tr>\n",
       "      <th>1</th>\n",
       "      <td>2</td>\n",
       "      <td>NaN</td>\n",
       "      <td>7bb0edd98f22430a03b6</td>\n",
       "      <td>d751713988987e933198</td>\n",
       "      <td>de2a35e78a80fd8380ed</td>\n",
       "      <td>e546784dabc7c0baa399</td>\n",
       "      <td>c8842986d4a9e0bd9cd0</td>\n",
       "      <td>94e94133f4bdc1794c6b</td>\n",
       "      <td>1.854321</td>\n",
       "      <td>28</td>\n",
       "      <td>...</td>\n",
       "      <td>2</td>\n",
       "      <td>3939.537719</td>\n",
       "      <td>18ff74f43da410c5529f</td>\n",
       "      <td>3939.537719</td>\n",
       "      <td>0.000000</td>\n",
       "      <td>NaN</td>\n",
       "      <td>a3d2de7675556553a5f0</td>\n",
       "      <td>456a29cf32ae45eac03f</td>\n",
       "      <td>940a99ee47f4073adfe7</td>\n",
       "      <td>30.667440</td>\n",
       "    </tr>\n",
       "    <tr>\n",
       "      <th>2</th>\n",
       "      <td>4</td>\n",
       "      <td>NaN</td>\n",
       "      <td>ff59525d9a9237add5ff</td>\n",
       "      <td>90700597393dfce9a46e</td>\n",
       "      <td>2c240a5c20869acbd973</td>\n",
       "      <td>e546784dabc7c0baa399</td>\n",
       "      <td>c8842986d4a9e0bd9cd0</td>\n",
       "      <td>94e94133f4bdc1794c6b</td>\n",
       "      <td>0.719955</td>\n",
       "      <td>348</td>\n",
       "      <td>...</td>\n",
       "      <td>24</td>\n",
       "      <td>2256.125437</td>\n",
       "      <td>18ff74f43da410c5529f</td>\n",
       "      <td>2256.125437</td>\n",
       "      <td>0.000000</td>\n",
       "      <td>NaN</td>\n",
       "      <td>0961e92ec9f13a2edc55</td>\n",
       "      <td>456a29cf32ae45eac03f</td>\n",
       "      <td>5fb1f955b45e38e31789</td>\n",
       "      <td>28.391629</td>\n",
       "    </tr>\n",
       "    <tr>\n",
       "      <th>3</th>\n",
       "      <td>5</td>\n",
       "      <td>NaN</td>\n",
       "      <td>23f59d5107f182b8364c</td>\n",
       "      <td>7cdafbcd93f1bccf5080</td>\n",
       "      <td>2547399267ae0ffdef2b</td>\n",
       "      <td>e546784dabc7c0baa399</td>\n",
       "      <td>9a69006ea41dbbc0785b</td>\n",
       "      <td>94e94133f4bdc1794c6b</td>\n",
       "      <td>3.628345</td>\n",
       "      <td>294</td>\n",
       "      <td>...</td>\n",
       "      <td>20</td>\n",
       "      <td>384836.825238</td>\n",
       "      <td>18ff74f43da410c5529f</td>\n",
       "      <td>384836.825238</td>\n",
       "      <td>3.628345</td>\n",
       "      <td>NaN</td>\n",
       "      <td>1cade31f14f9053ed736</td>\n",
       "      <td>456a29cf32ae45eac03f</td>\n",
       "      <td>5fb1f955b45e38e31789</td>\n",
       "      <td>43.442133</td>\n",
       "    </tr>\n",
       "    <tr>\n",
       "      <th>4</th>\n",
       "      <td>6</td>\n",
       "      <td>NaN</td>\n",
       "      <td>e60dd4d20e122f2a0017</td>\n",
       "      <td>9bf293624e667dbe6d8a</td>\n",
       "      <td>44885837c518b06e3f98</td>\n",
       "      <td>e546784dabc7c0baa399</td>\n",
       "      <td>954f5773401802900578</td>\n",
       "      <td>94e94133f4bdc1794c6b</td>\n",
       "      <td>3.628345</td>\n",
       "      <td>297</td>\n",
       "      <td>...</td>\n",
       "      <td>20</td>\n",
       "      <td>111345.629879</td>\n",
       "      <td>18ff74f43da410c5529f</td>\n",
       "      <td>111345.629879</td>\n",
       "      <td>1.854321</td>\n",
       "      <td>-49.319686</td>\n",
       "      <td>569725f7d4b38bf384b7</td>\n",
       "      <td>456a29cf32ae45eac03f</td>\n",
       "      <td>940a99ee47f4073adfe7</td>\n",
       "      <td>37.172312</td>\n",
       "    </tr>\n",
       "  </tbody>\n",
       "</table>\n",
       "<p>5 rows × 22 columns</p>\n",
       "</div>"
      ],
      "text/plain": [
       "   id  feature_0             feature_1             feature_2  \\\n",
       "0   1        NaN  7bb0edd98f22430a03b6  43347709c539b56b0e08   \n",
       "1   2        NaN  7bb0edd98f22430a03b6  d751713988987e933198   \n",
       "2   4        NaN  ff59525d9a9237add5ff  90700597393dfce9a46e   \n",
       "3   5        NaN  23f59d5107f182b8364c  7cdafbcd93f1bccf5080   \n",
       "4   6        NaN  e60dd4d20e122f2a0017  9bf293624e667dbe6d8a   \n",
       "\n",
       "              feature_3             feature_4             feature_5  \\\n",
       "0  89562dccfeb1d0394b9a  e546784dabc7c0baa399  c8842986d4a9e0bd9cd0   \n",
       "1  de2a35e78a80fd8380ed  e546784dabc7c0baa399  c8842986d4a9e0bd9cd0   \n",
       "2  2c240a5c20869acbd973  e546784dabc7c0baa399  c8842986d4a9e0bd9cd0   \n",
       "3  2547399267ae0ffdef2b  e546784dabc7c0baa399  9a69006ea41dbbc0785b   \n",
       "4  44885837c518b06e3f98  e546784dabc7c0baa399  954f5773401802900578   \n",
       "\n",
       "              feature_6  feature_7  feature_8    ...      feature_11  \\\n",
       "0  94e94133f4bdc1794c6b   3.628345        128    ...              10   \n",
       "1  94e94133f4bdc1794c6b   1.854321         28    ...               2   \n",
       "2  94e94133f4bdc1794c6b   0.719955        348    ...              24   \n",
       "3  94e94133f4bdc1794c6b   3.628345        294    ...              20   \n",
       "4  94e94133f4bdc1794c6b   3.628345        297    ...              20   \n",
       "\n",
       "      feature_12            feature_13     feature_14 feature_15  feature_16  \\\n",
       "0   56688.435956  18ff74f43da410c5529f   56688.435956   0.719955  -48.549454   \n",
       "1    3939.537719  18ff74f43da410c5529f    3939.537719   0.000000         NaN   \n",
       "2    2256.125437  18ff74f43da410c5529f    2256.125437   0.000000         NaN   \n",
       "3  384836.825238  18ff74f43da410c5529f  384836.825238   3.628345         NaN   \n",
       "4  111345.629879  18ff74f43da410c5529f  111345.629879   1.854321  -49.319686   \n",
       "\n",
       "             feature_17            feature_18            feature_19     target  \n",
       "0  6d1dc6a272b972d037d2  456a29cf32ae45eac03f  5fb1f955b45e38e31789  39.422747  \n",
       "1  a3d2de7675556553a5f0  456a29cf32ae45eac03f  940a99ee47f4073adfe7  30.667440  \n",
       "2  0961e92ec9f13a2edc55  456a29cf32ae45eac03f  5fb1f955b45e38e31789  28.391629  \n",
       "3  1cade31f14f9053ed736  456a29cf32ae45eac03f  5fb1f955b45e38e31789  43.442133  \n",
       "4  569725f7d4b38bf384b7  456a29cf32ae45eac03f  940a99ee47f4073adfe7  37.172312  \n",
       "\n",
       "[5 rows x 22 columns]"
      ]
     },
     "execution_count": 1,
     "metadata": {},
     "output_type": "execute_result"
    }
   ],
   "source": [
    "import pandas as pd\n",
    "\n",
    "df_train = pd.read_csv('train.csv')\n",
    "df_test  = pd.read_csv('test.csv')\n",
    "\n",
    "df_train.head()"
   ]
  },
  {
   "cell_type": "code",
   "execution_count": 29,
   "metadata": {
    "collapsed": false
   },
   "outputs": [
    {
     "data": {
      "text/plain": [
       "(59484, 19829)"
      ]
     },
     "execution_count": 29,
     "metadata": {},
     "output_type": "execute_result"
    }
   ],
   "source": [
    "# Vendo o tamanho de cada base\n",
    "len(df_train), len(df_test)"
   ]
  },
  {
   "cell_type": "code",
   "execution_count": 3,
   "metadata": {
    "collapsed": false
   },
   "outputs": [
    {
     "data": {
      "text/html": [
       "<div>\n",
       "<table border=\"1\" class=\"dataframe\">\n",
       "  <thead>\n",
       "    <tr style=\"text-align: right;\">\n",
       "      <th></th>\n",
       "      <th>feature</th>\n",
       "      <th>count</th>\n",
       "      <th>type</th>\n",
       "      <th>names</th>\n",
       "    </tr>\n",
       "  </thead>\n",
       "  <tbody>\n",
       "    <tr>\n",
       "      <th>14</th>\n",
       "      <td>feature_13</td>\n",
       "      <td>1.0</td>\n",
       "      <td>object</td>\n",
       "      <td>['18ff74f43da410c5529f']</td>\n",
       "    </tr>\n",
       "    <tr>\n",
       "      <th>5</th>\n",
       "      <td>feature_4</td>\n",
       "      <td>2.0</td>\n",
       "      <td>object</td>\n",
       "      <td>['e546784dabc7c0baa399', 'f9bddf0425d224ce18e3']</td>\n",
       "    </tr>\n",
       "    <tr>\n",
       "      <th>19</th>\n",
       "      <td>feature_18</td>\n",
       "      <td>3.0</td>\n",
       "      <td>object</td>\n",
       "      <td>['456a29cf32ae45eac03f', '7a65fd4cef0a01e3974c...</td>\n",
       "    </tr>\n",
       "    <tr>\n",
       "      <th>7</th>\n",
       "      <td>feature_6</td>\n",
       "      <td>3.0</td>\n",
       "      <td>object</td>\n",
       "      <td>['94e94133f4bdc1794c6b', '7c7c704d16a864767fed...</td>\n",
       "    </tr>\n",
       "    <tr>\n",
       "      <th>20</th>\n",
       "      <td>feature_19</td>\n",
       "      <td>3.0</td>\n",
       "      <td>object</td>\n",
       "      <td>['5fb1f955b45e38e31789', '940a99ee47f4073adfe7...</td>\n",
       "    </tr>\n",
       "    <tr>\n",
       "      <th>12</th>\n",
       "      <td>feature_11</td>\n",
       "      <td>12.0</td>\n",
       "      <td>int64</td>\n",
       "      <td>[10, 2, 24, 20, 14, 6, 22, 12, 8, 4, 18, 16]</td>\n",
       "    </tr>\n",
       "    <tr>\n",
       "      <th>6</th>\n",
       "      <td>feature_5</td>\n",
       "      <td>17.0</td>\n",
       "      <td>object</td>\n",
       "      <td>['c8842986d4a9e0bd9cd0', '9a69006ea41dbbc0785b...</td>\n",
       "    </tr>\n",
       "    <tr>\n",
       "      <th>16</th>\n",
       "      <td>feature_15</td>\n",
       "      <td>19.0</td>\n",
       "      <td>float64</td>\n",
       "      <td>[0.71995488565400001, 0.0, 3.6283452616400003,...</td>\n",
       "    </tr>\n",
       "    <tr>\n",
       "      <th>10</th>\n",
       "      <td>feature_9</td>\n",
       "      <td>23.0</td>\n",
       "      <td>float64</td>\n",
       "      <td>[6.1070569524199998, 0.71995488565400001, 0.14...</td>\n",
       "    </tr>\n",
       "    <tr>\n",
       "      <th>8</th>\n",
       "      <td>feature_7</td>\n",
       "      <td>26.0</td>\n",
       "      <td>float64</td>\n",
       "      <td>[3.6283452616400003, 1.8543208761099996, 0.719...</td>\n",
       "    </tr>\n",
       "    <tr>\n",
       "      <th>9</th>\n",
       "      <td>feature_8</td>\n",
       "      <td>365.0</td>\n",
       "      <td>int64</td>\n",
       "      <td>[128, 28, 348, 294, 297, 211, 75, 331, 327, 13...</td>\n",
       "    </tr>\n",
       "    <tr>\n",
       "      <th>1</th>\n",
       "      <td>feature_0</td>\n",
       "      <td>869.0</td>\n",
       "      <td>float64</td>\n",
       "      <td>[nan, 621532.80122000002, 76361.297652399997, ...</td>\n",
       "    </tr>\n",
       "    <tr>\n",
       "      <th>13</th>\n",
       "      <td>feature_12</td>\n",
       "      <td>3036.0</td>\n",
       "      <td>float64</td>\n",
       "      <td>[56688.4359559, 3939.5377189199999, 2256.12543...</td>\n",
       "    </tr>\n",
       "    <tr>\n",
       "      <th>15</th>\n",
       "      <td>feature_14</td>\n",
       "      <td>4214.0</td>\n",
       "      <td>float64</td>\n",
       "      <td>[56688.4359559, 3939.5377189199999, 2256.12543...</td>\n",
       "    </tr>\n",
       "    <tr>\n",
       "      <th>21</th>\n",
       "      <td>target</td>\n",
       "      <td>6760.0</td>\n",
       "      <td>float64</td>\n",
       "      <td>[39.422746781500003, 30.667440329800002, 28.39...</td>\n",
       "    </tr>\n",
       "    <tr>\n",
       "      <th>2</th>\n",
       "      <td>feature_1</td>\n",
       "      <td>12216.0</td>\n",
       "      <td>object</td>\n",
       "      <td>['7bb0edd98f22430a03b6', 'ff59525d9a9237add5ff...</td>\n",
       "    </tr>\n",
       "    <tr>\n",
       "      <th>17</th>\n",
       "      <td>feature_16</td>\n",
       "      <td>15735.0</td>\n",
       "      <td>float64</td>\n",
       "      <td>[-48.549453999999997, nan, -49.319685999999997...</td>\n",
       "    </tr>\n",
       "    <tr>\n",
       "      <th>11</th>\n",
       "      <td>feature_10</td>\n",
       "      <td>15941.0</td>\n",
       "      <td>float64</td>\n",
       "      <td>[-27.596903999999999, nan, -25.373270000000002...</td>\n",
       "    </tr>\n",
       "    <tr>\n",
       "      <th>3</th>\n",
       "      <td>feature_2</td>\n",
       "      <td>16794.0</td>\n",
       "      <td>object</td>\n",
       "      <td>['43347709c539b56b0e08', 'd751713988987e933198...</td>\n",
       "    </tr>\n",
       "    <tr>\n",
       "      <th>18</th>\n",
       "      <td>feature_17</td>\n",
       "      <td>20300.0</td>\n",
       "      <td>object</td>\n",
       "      <td>['6d1dc6a272b972d037d2', 'a3d2de7675556553a5f0...</td>\n",
       "    </tr>\n",
       "    <tr>\n",
       "      <th>4</th>\n",
       "      <td>feature_3</td>\n",
       "      <td>45757.0</td>\n",
       "      <td>object</td>\n",
       "      <td>['89562dccfeb1d0394b9a', 'de2a35e78a80fd8380ed...</td>\n",
       "    </tr>\n",
       "    <tr>\n",
       "      <th>0</th>\n",
       "      <td>id</td>\n",
       "      <td>59484.0</td>\n",
       "      <td>int64</td>\n",
       "      <td>[1, 2, 4, 5, 6, 8, 9, 10, 11, 12, 13, 14, 16, ...</td>\n",
       "    </tr>\n",
       "  </tbody>\n",
       "</table>\n",
       "</div>"
      ],
      "text/plain": [
       "       feature    count     type  \\\n",
       "14  feature_13      1.0   object   \n",
       "5    feature_4      2.0   object   \n",
       "19  feature_18      3.0   object   \n",
       "7    feature_6      3.0   object   \n",
       "20  feature_19      3.0   object   \n",
       "12  feature_11     12.0    int64   \n",
       "6    feature_5     17.0   object   \n",
       "16  feature_15     19.0  float64   \n",
       "10   feature_9     23.0  float64   \n",
       "8    feature_7     26.0  float64   \n",
       "9    feature_8    365.0    int64   \n",
       "1    feature_0    869.0  float64   \n",
       "13  feature_12   3036.0  float64   \n",
       "15  feature_14   4214.0  float64   \n",
       "21      target   6760.0  float64   \n",
       "2    feature_1  12216.0   object   \n",
       "17  feature_16  15735.0  float64   \n",
       "11  feature_10  15941.0  float64   \n",
       "3    feature_2  16794.0   object   \n",
       "18  feature_17  20300.0   object   \n",
       "4    feature_3  45757.0   object   \n",
       "0           id  59484.0    int64   \n",
       "\n",
       "                                                names  \n",
       "14                           ['18ff74f43da410c5529f']  \n",
       "5    ['e546784dabc7c0baa399', 'f9bddf0425d224ce18e3']  \n",
       "19  ['456a29cf32ae45eac03f', '7a65fd4cef0a01e3974c...  \n",
       "7   ['94e94133f4bdc1794c6b', '7c7c704d16a864767fed...  \n",
       "20  ['5fb1f955b45e38e31789', '940a99ee47f4073adfe7...  \n",
       "12       [10, 2, 24, 20, 14, 6, 22, 12, 8, 4, 18, 16]  \n",
       "6   ['c8842986d4a9e0bd9cd0', '9a69006ea41dbbc0785b...  \n",
       "16  [0.71995488565400001, 0.0, 3.6283452616400003,...  \n",
       "10  [6.1070569524199998, 0.71995488565400001, 0.14...  \n",
       "8   [3.6283452616400003, 1.8543208761099996, 0.719...  \n",
       "9   [128, 28, 348, 294, 297, 211, 75, 331, 327, 13...  \n",
       "1   [nan, 621532.80122000002, 76361.297652399997, ...  \n",
       "13  [56688.4359559, 3939.5377189199999, 2256.12543...  \n",
       "15  [56688.4359559, 3939.5377189199999, 2256.12543...  \n",
       "21  [39.422746781500003, 30.667440329800002, 28.39...  \n",
       "2   ['7bb0edd98f22430a03b6', 'ff59525d9a9237add5ff...  \n",
       "17  [-48.549453999999997, nan, -49.319685999999997...  \n",
       "11  [-27.596903999999999, nan, -25.373270000000002...  \n",
       "3   ['43347709c539b56b0e08', 'd751713988987e933198...  \n",
       "18  ['6d1dc6a272b972d037d2', 'a3d2de7675556553a5f0...  \n",
       "4   ['89562dccfeb1d0394b9a', 'de2a35e78a80fd8380ed...  \n",
       "0   [1, 2, 4, 5, 6, 8, 9, 10, 11, 12, 13, 14, 16, ...  "
      ]
     },
     "execution_count": 3,
     "metadata": {},
     "output_type": "execute_result"
    }
   ],
   "source": [
    "# Organizando as features para ver melhor o formato dos dados, valores unicos etc\n",
    "df_count = pd.DataFrame(columns=['feature', 'count', 'type', 'names'])\n",
    "for feature in df_train.columns:\n",
    "    values = list(df_train[feature].unique())\n",
    "    row = [feature, len(values), df_train[feature].dtype, str(values[:50])]\n",
    "    df_count.loc[len(df_count)] = row  \n",
    "\n",
    "df_count.sort_values(['count'])"
   ]
  },
  {
   "cell_type": "code",
   "execution_count": 31,
   "metadata": {
    "collapsed": false
   },
   "outputs": [],
   "source": [
    "def create_features(df):\n",
    "    # Com base nas analises, vi que a feature_8 tem 365 valores diferentes,\n",
    "    # baseado nisso imagino que pode ser o dia do ano.\n",
    "    # Peguei um ano qualquer como base e com isso fui capaz de descobrir dia e mês.\n",
    "    from datetime import date\n",
    "\n",
    "    def int_to_day(days):\n",
    "        return date.fromordinal(date(2015, 1, 1).toordinal() + days - 1).day\n",
    "\n",
    "    def int_to_month(days):\n",
    "        return date.fromordinal(date(2015, 1, 1).toordinal() + days - 1).month\n",
    "\n",
    "    df['feature_8_day'] = df.feature_8.apply(int_to_day)\n",
    "    df['feature_8_month'] = df.feature_8.apply(int_to_month)\n",
    "\n",
    "    # A feature_11 possui possui valores divisíveis por 2, gerando números de 1 a 12, o que talvez possa ser o mês ofuscado.\n",
    "    df['feature_11_month'] = df.feature_11.divide(2)\n",
    "    \n",
    "create_features(df_train)\n",
    "create_features(df_test)"
   ]
  },
  {
   "cell_type": "code",
   "execution_count": 5,
   "metadata": {
    "collapsed": false
   },
   "outputs": [
    {
     "data": {
      "text/html": [
       "<div>\n",
       "<table border=\"1\" class=\"dataframe\">\n",
       "  <thead>\n",
       "    <tr style=\"text-align: right;\">\n",
       "      <th></th>\n",
       "      <th>feature_8_month</th>\n",
       "      <th>feature_11_month</th>\n",
       "    </tr>\n",
       "  </thead>\n",
       "  <tbody>\n",
       "    <tr>\n",
       "      <th>0</th>\n",
       "      <td>5</td>\n",
       "      <td>5.0</td>\n",
       "    </tr>\n",
       "    <tr>\n",
       "      <th>1</th>\n",
       "      <td>1</td>\n",
       "      <td>1.0</td>\n",
       "    </tr>\n",
       "    <tr>\n",
       "      <th>2</th>\n",
       "      <td>12</td>\n",
       "      <td>12.0</td>\n",
       "    </tr>\n",
       "    <tr>\n",
       "      <th>3</th>\n",
       "      <td>10</td>\n",
       "      <td>10.0</td>\n",
       "    </tr>\n",
       "    <tr>\n",
       "      <th>4</th>\n",
       "      <td>10</td>\n",
       "      <td>10.0</td>\n",
       "    </tr>\n",
       "  </tbody>\n",
       "</table>\n",
       "</div>"
      ],
      "text/plain": [
       "   feature_8_month  feature_11_month\n",
       "0                5               5.0\n",
       "1                1               1.0\n",
       "2               12              12.0\n",
       "3               10              10.0\n",
       "4               10              10.0"
      ]
     },
     "execution_count": 5,
     "metadata": {},
     "output_type": "execute_result"
    }
   ],
   "source": [
    "# O possivel mes gerado pela feature 8 e pela feature 11 parecem confirmar a teoria.\n",
    "df_train[['feature_8_month','feature_11_month']].head()"
   ]
  },
  {
   "cell_type": "code",
   "execution_count": 46,
   "metadata": {
    "collapsed": false
   },
   "outputs": [
    {
     "data": {
      "text/plain": [
       "(59484, 58789, 98.83161858651066)"
      ]
     },
     "execution_count": 46,
     "metadata": {},
     "output_type": "execute_result"
    }
   ],
   "source": [
    "# Eles batem em 98% das linhas.\n",
    "tmp = df_train[df_train.feature_8_month == df_train.feature_11_month]\n",
    "len(df_train), len(tmp), 100*len(tmp)/len(df_train)"
   ]
  },
  {
   "cell_type": "code",
   "execution_count": 7,
   "metadata": {
    "collapsed": false
   },
   "outputs": [
    {
     "data": {
      "text/plain": [
       "['feature_13']"
      ]
     },
     "execution_count": 7,
     "metadata": {},
     "output_type": "execute_result"
    }
   ],
   "source": [
    "# Achando features que possuem o mesmo valor em todas as linhas\n",
    "changeless_columns = []\n",
    "for column in df_train.columns:\n",
    "    if len(df_train[column].unique()) == 1:\n",
    "        changeless_columns.append(column)\n",
    "changeless_columns"
   ]
  },
  {
   "cell_type": "code",
   "execution_count": 8,
   "metadata": {
    "collapsed": true
   },
   "outputs": [],
   "source": [
    "# Vamos guardar os ids para colocar o arquivo com os resultados\n",
    "df_test_ids = df_test.id.values\n",
    "\n",
    "# Vamos remover o id que é apenas um identificador e não serve como feature.\n",
    "# Vamos remover a feature 13, pois ela tem o mesmo valor em todas as linhas.\n",
    "df_train.drop(['id', 'feature_13'], axis=1, inplace=True)\n",
    "df_test.drop(['id', 'feature_13'], axis=1, inplace=True)"
   ]
  },
  {
   "cell_type": "code",
   "execution_count": 9,
   "metadata": {
    "collapsed": false
   },
   "outputs": [],
   "source": [
    "# Vou trocar o NAN de duas formas:\n",
    "\n",
    "# - Numericos: Recebem a media geral daquela coluna, importante ser uma media geral\n",
    "#   e nao somente da base treino para evitar overfiting.\n",
    "# - Categoricos: Como valores categoricos não possuem media, vamos trocar pela moda, que é o valor mais comum.\n",
    "from pandas.core.common import is_numeric_dtype\n",
    "\n",
    "def fill_na(df_train, df_test):\n",
    "    for column in df_test.columns:\n",
    "        if is_numeric_dtype(df_test[column].dtype):\n",
    "            general_mean = pd.concat([df_train[column], df_test[column]], ignore_index=True).mean()\n",
    "            df_train[column].fillna(general_mean, inplace=True)\n",
    "            df_test[column].fillna(general_mean, inplace=True)\n",
    "        else:\n",
    "            general_mode = pd.concat([df_train[column], df_test[column]], ignore_index=True).mode()\n",
    "            df_train[column].fillna(general_mode, inplace=True)\n",
    "            df_test[column].fillna(general_mode, inplace=True)\n",
    "# fill_na(df_train, df_test)\n",
    "\n",
    "# Após testar com media/moda e apenas substituindo por 0, tive melhor score no cross validation substituindo por 0.\n",
    "# Então mantive assim.\n",
    "df_train.fillna(0, axis=1, inplace=True)\n",
    "df_test.fillna(0, axis=1, inplace=True)"
   ]
  },
  {
   "cell_type": "code",
   "execution_count": 10,
   "metadata": {
    "collapsed": false
   },
   "outputs": [
    {
     "data": {
      "text/plain": [
       "['feature_1',\n",
       " 'feature_2',\n",
       " 'feature_3',\n",
       " 'feature_4',\n",
       " 'feature_5',\n",
       " 'feature_6',\n",
       " 'feature_17',\n",
       " 'feature_18',\n",
       " 'feature_19']"
      ]
     },
     "execution_count": 10,
     "metadata": {},
     "output_type": "execute_result"
    }
   ],
   "source": [
    "# Trocando as features categoricas por números com o Label Encoder\n",
    "# isso é pre requisito para a maioria dos classificadores.\n",
    "\n",
    "import numpy as np\n",
    "from sklearn.preprocessing import LabelEncoder\n",
    "\n",
    "def encode_string_columns(df_train, df_test):\n",
    "    encoded_columns = []\n",
    "    for column in df_test.columns:\n",
    "        if df_test[column].dtype == np.object:\n",
    "            train_values = list(df_train[column].values)\n",
    "            test_values = list(df_test[column].values)\n",
    "            encoder = LabelEncoder()\n",
    "            encoder.fit(np.unique(train_values + test_values))\n",
    "            df_train[column] = encoder.transform(train_values)\n",
    "            df_test[column] = encoder.transform(test_values)\n",
    "            encoded_columns.append(column)\n",
    "    return encoded_columns\n",
    "\n",
    "# Imprimindo categoricas que foram tratadas\n",
    "encode_string_columns(df_train, df_test)"
   ]
  },
  {
   "cell_type": "code",
   "execution_count": 11,
   "metadata": {
    "collapsed": false
   },
   "outputs": [
    {
     "data": {
      "text/plain": [
       "Index(['feature_0', 'feature_1', 'feature_10', 'feature_11',\n",
       "       'feature_11_month', 'feature_12', 'feature_14', 'feature_15',\n",
       "       'feature_16', 'feature_17', 'feature_18', 'feature_19', 'feature_2',\n",
       "       'feature_3', 'feature_4', 'feature_5', 'feature_6', 'feature_7',\n",
       "       'feature_8', 'feature_8_day', 'feature_8_month', 'feature_9'],\n",
       "      dtype='object')"
      ]
     },
     "execution_count": 11,
     "metadata": {},
     "output_type": "execute_result"
    }
   ],
   "source": [
    "# Pegando somente as features.\n",
    "features = df_train.columns.difference(['target'])\n",
    "\n",
    "# Vamos colocar os valores das features X e das saídas em y\n",
    "X = df_train[features].values\n",
    "y = df_train['target'].values\n",
    "\n",
    "features"
   ]
  },
  {
   "cell_type": "code",
   "execution_count": 12,
   "metadata": {
    "collapsed": false
   },
   "outputs": [],
   "source": [
    "# Gerando funcão de score usada no desafio\n",
    "import numpy as np\n",
    "from sklearn.metrics import make_scorer\n",
    "\n",
    "# Median Absolute Percentage Error (MdAPE)\n",
    "def mdape(ytrue, ypred):\n",
    "     return np.median( np.abs(ytrue - ypred) / ytrue )\n",
    "    \n",
    "scorer = make_scorer(mdape, False)"
   ]
  },
  {
   "cell_type": "code",
   "execution_count": 14,
   "metadata": {
    "collapsed": false
   },
   "outputs": [
    {
     "data": {
      "text/plain": [
       "(array([-0.08683096, -0.08740561, -0.08519264, -0.087251  , -0.08616367]),\n",
       " -0.08656877759767502)"
      ]
     },
     "execution_count": 14,
     "metadata": {},
     "output_type": "execute_result"
    }
   ],
   "source": [
    "# Testando um modelo linear para ver o resultado.\n",
    "from sklearn.linear_model import LinearRegression\n",
    "from sklearn.cross_validation import cross_val_score\n",
    "\n",
    "classifier_linear = LinearRegression(normalize=True)\n",
    "scores = cross_val_score(classifier_linear, X, y, scoring=scorer, cv=5)\n",
    "scores, scores.mean()\n",
    "\n",
    "# Com media e moda: -0.086726606547216603, \n",
    "# Com 0 no NAN:"
   ]
  },
  {
   "cell_type": "code",
   "execution_count": 15,
   "metadata": {
    "collapsed": false
   },
   "outputs": [
    {
     "data": {
      "text/plain": [
       "(array([-0.03483076, -0.0342098 , -0.0346549 , -0.03465876, -0.03456913]),\n",
       " -0.03458467083840143)"
      ]
     },
     "execution_count": 15,
     "metadata": {},
     "output_type": "execute_result"
    }
   ],
   "source": [
    "# Vamos com um modelo não linear agora.\n",
    "from sklearn.ensemble import RandomForestRegressor\n",
    "from sklearn.cross_validation import cross_val_score\n",
    "\n",
    "classifier = RandomForestRegressor(n_jobs=-1,\n",
    "                                   random_state=1986,\n",
    "                                   bootstrap=False,\n",
    "                                   max_depth=30,\n",
    "                                   max_features=0.35,\n",
    "                                   n_estimators=100) \n",
    "scores = cross_val_score(classifier, X, y, scoring=scorer, cv=5)\n",
    "scores, scores.mean()\n",
    "\n",
    "# Com media e moda no NAN: -0.034630119944758578\n",
    "# Com 0 no NAN:"
   ]
  },
  {
   "cell_type": "markdown",
   "metadata": {},
   "source": [
    "O modelo não linear ficou bem melhor, vamos usar ele então."
   ]
  },
  {
   "cell_type": "code",
   "execution_count": 20,
   "metadata": {
    "collapsed": false
   },
   "outputs": [
    {
     "data": {
      "text/plain": [
       "RandomForestRegressor(bootstrap=False, criterion='mse', max_depth=22,\n",
       "           max_features=0.20417686877330429, max_leaf_nodes=None,\n",
       "           min_samples_leaf=1, min_samples_split=2,\n",
       "           min_weight_fraction_leaf=0.0, n_estimators=267, n_jobs=-1,\n",
       "           oob_score=False, random_state=1986, verbose=0, warm_start=False)"
      ]
     },
     "execution_count": 20,
     "metadata": {},
     "output_type": "execute_result"
    }
   ],
   "source": [
    "# Vamos dar o fit com todos os dados, para termos o classificador pronto\n",
    "classifier.fit(X, y)"
   ]
  },
  {
   "cell_type": "code",
   "execution_count": 21,
   "metadata": {
    "collapsed": false
   },
   "outputs": [
    {
     "name": "stdout",
     "output_type": "stream",
     "text": [
      "feature_14: 23.851854%\n",
      "feature_15: 13.375844%\n",
      "feature_12: 9.936883%\n",
      "feature_9: 8.837547%\n",
      "feature_7: 7.466354%\n",
      "feature_5: 4.646592%\n",
      "feature_16: 3.708535%\n",
      "feature_10: 3.545121%\n",
      "feature_3: 3.446933%\n",
      "feature_17: 3.088188%\n",
      "feature_1: 3.058366%\n",
      "feature_8: 2.971948%\n",
      "feature_8_day: 2.731672%\n",
      "feature_2: 2.106591%\n",
      "feature_4: 1.456322%\n",
      "feature_11: 1.176820%\n",
      "feature_11_month: 1.176637%\n",
      "feature_8_month: 1.168242%\n",
      "feature_0: 1.062831%\n",
      "feature_19: 0.802569%\n",
      "feature_6: 0.222721%\n",
      "feature_18: 0.161431%\n"
     ]
    }
   ],
   "source": [
    "# Vamos ver a importância de cada uma das features\n",
    "features_importance = zip(classifier.feature_importances_, features)\n",
    "for importance, feature in sorted(features_importance, reverse=True):\n",
    "    print(\"%s: %f%%\" % (feature, importance*100))"
   ]
  },
  {
   "cell_type": "code",
   "execution_count": 22,
   "metadata": {
    "collapsed": true
   },
   "outputs": [],
   "source": [
    "# Vamos gerar os dados da curva de aprendizado para analisarmos.\n",
    "from sklearn.learning_curve import learning_curve\n",
    "\n",
    "train_sizes, train_scores, test_scores = learning_curve(classifier, X, y, scoring=scorer, cv=5)\n",
    "train_scores_mean = np.mean(train_scores, axis=1)\n",
    "train_scores_std = np.std(train_scores, axis=1)\n",
    "test_scores_mean = np.mean(test_scores, axis=1)\n",
    "test_scores_std = np.std(test_scores, axis=1)"
   ]
  },
  {
   "cell_type": "code",
   "execution_count": 23,
   "metadata": {
    "collapsed": false
   },
   "outputs": [
    {
     "data": {
      "text/plain": [
       "<matplotlib.legend.Legend at 0x19f9252ccf8>"
      ]
     },
     "execution_count": 23,
     "metadata": {},
     "output_type": "execute_result"
    },
    {
     "data": {
      "image/png": "[encoded data removed]",
      "text/plain": [
       "<matplotlib.figure.Figure at 0x19fa3a5ea90>"
      ]
     },
     "metadata": {},
     "output_type": "display_data"
    }
   ],
   "source": [
    "# Vamos plotar esse dados para melhor visualização.\n",
    "%matplotlib inline\n",
    "import matplotlib.pyplot as plt\n",
    "\n",
    "plt.figure()\n",
    "plt.title('Learning Curve')\n",
    "plt.xlabel(\"Training examples\")\n",
    "plt.ylabel(\"Score\")\n",
    "\n",
    "plt.grid()\n",
    "plt.fill_between(train_sizes, train_scores_mean - train_scores_std,\n",
    "                 train_scores_mean + train_scores_std, alpha=0.1,\n",
    "                 color=\"r\")\n",
    "plt.fill_between(train_sizes, test_scores_mean - test_scores_std,\n",
    "                 test_scores_mean + test_scores_std, alpha=0.1, color=\"g\")\n",
    "plt.plot(train_sizes, train_scores_mean, 'o-', color=\"r\", label=\"Training score\")\n",
    "plt.plot(train_sizes, test_scores_mean, 'o-', color=\"g\", label=\"Cross-validation score\")\n",
    "\n",
    "plt.legend(loc=\"center right\")"
   ]
  },
  {
   "cell_type": "markdown",
   "metadata": {},
   "source": [
    "No geral a precisão do modelo está muito boa e com um baixo desvio padrão no cross validation, o que mostra que não temos nem  underfitting e nem overfitting.\n",
    "\n",
    "Também podemos ver que conforme adicionamos dados no treinamento (linha vermelha) o modelo perde um pouco da precisão, melhores features podem ajudar o modelo a generalizar melhor ainda.\n",
    "\n",
    "Conforme colocamos mais dados, o cross validation (linha verde) do modelo tende a melhorar, com mais dados ainda é bem provavel que o modelo melhore ainda mais."
   ]
  },
  {
   "cell_type": "code",
   "execution_count": 27,
   "metadata": {
    "collapsed": false
   },
   "outputs": [
    {
     "data": {
      "text/plain": [
       "(Index([], dtype='object'), -0.034465086440081574)"
      ]
     },
     "execution_count": 27,
     "metadata": {},
     "output_type": "execute_result"
    }
   ],
   "source": [
    "# Muitas vezes uma feature ruim pode mais atrapalhar do que ajudar um modelo,\n",
    "# vamos rodar o feature elimination para tentar achar essas features.\n",
    "from sklearn.feature_selection import RFECV\n",
    "\n",
    "selector = RFECV(classifier, 1, cv=5, scoring=scorer)\n",
    "selector.fit(X, y)\n",
    "\n",
    "features[selector.support_ == False], np.max(selector.grid_scores_)"
   ]
  },
  {
   "cell_type": "markdown",
   "metadata": {},
   "source": [
    "O feature elimination executado, tirou feature por feature e rodou o cross validation.\n",
    "O melhor resultado encontrado foi sem tirar nenhuma feature, pois todas estão sendo usadas e contribuem para nosso score."
   ]
  },
  {
   "cell_type": "code",
   "execution_count": 28,
   "metadata": {
    "collapsed": false
   },
   "outputs": [
    {
     "name": "stdout",
     "output_type": "stream",
     "text": [
      "\u001b[31mInitialization\u001b[0m\n",
      "\u001b[94m-----------------------------------------------------------------------------\u001b[0m\n",
      " Step |   Time |      Value |   max_depth |   max_features |   n_estimators | \n",
      "    1 | 00m44s | \u001b[35m  -0.04239\u001b[0m | \u001b[32m    10.9001\u001b[0m | \u001b[32m        0.3560\u001b[0m | \u001b[32m      154.8984\u001b[0m | \n",
      "    2 | 01m23s | \u001b[35m  -0.04182\u001b[0m | \u001b[32m    10.8667\u001b[0m | \u001b[32m        0.3972\u001b[0m | \u001b[32m      260.1035\u001b[0m | \n",
      "    3 | 01m17s |   -0.04381 |     15.4207 |         0.1232 |       495.4720 | \n",
      "    4 | 00m59s | \u001b[35m  -0.03546\u001b[0m | \u001b[32m    19.5439\u001b[0m | \u001b[32m        0.3048\u001b[0m | \u001b[32m      127.4215\u001b[0m | \n",
      "    5 | 04m04s | \u001b[35m  -0.03447\u001b[0m | \u001b[32m    29.7126\u001b[0m | \u001b[32m        0.2465\u001b[0m | \u001b[32m      471.7642\u001b[0m | \n",
      "\u001b[31mBayesian Optimization\u001b[0m\n",
      "\u001b[94m-----------------------------------------------------------------------------\u001b[0m\n",
      " Step |   Time |      Value |   max_depth |   max_features |   n_estimators | \n",
      "    6 | 03m44s |   -0.03490 |     29.1590 |         0.2202 |       479.3488 | \n",
      "    7 | 03m23s | \u001b[35m  -0.03446\u001b[0m | \u001b[32m    28.3369\u001b[0m | \u001b[32m        0.2688\u001b[0m | \u001b[32m      401.0347\u001b[0m | \n",
      "    8 | 03m17s | \u001b[35m  -0.03442\u001b[0m | \u001b[32m    30.0000\u001b[0m | \u001b[32m        0.2371\u001b[0m | \u001b[32m      386.2869\u001b[0m | \n",
      "    9 | 03m29s |   -0.03447 |     28.7555 |         0.2422 |       422.8973 | \n",
      "   10 | 03m27s | \u001b[35m  -0.03442\u001b[0m | \u001b[32m    30.0000\u001b[0m | \u001b[32m        0.2667\u001b[0m | \u001b[32m      410.9430\u001b[0m | \n",
      "   11 | 02m10s |   -0.03461 |     25.5343 |         0.2779 |       233.0309 | \n",
      "   12 | 02m40s |   -0.03453 |     29.2294 |         0.2677 |       313.4465 | \n",
      "   13 | 01m18s |   -0.03460 |     24.5548 |         0.2767 |       137.0039 | \n",
      "   14 | 01m32s |   -0.03465 |     25.2026 |         0.3101 |       162.5681 | \n",
      "   15 | 01m36s |   -0.03478 |     22.8270 |         0.2897 |       179.9577 | \n",
      "   16 | 01m49s | \u001b[35m  -0.03431\u001b[0m | \u001b[32m    28.7347\u001b[0m | \u001b[32m        0.2826\u001b[0m | \u001b[32m      190.8964\u001b[0m | \n",
      "   17 | 01m48s |   -0.03466 |     28.8073 |         0.2472 |       216.7835 | \n",
      "   18 | 02m37s |   -0.03433 |     28.8384 |         0.3088 |       278.6267 | \n",
      "   19 | 02m03s |   -0.03438 |     27.8996 |         0.3003 |       215.7248 | \n",
      "   20 | 02m25s | \u001b[35m  -0.03430\u001b[0m | \u001b[32m    30.0000\u001b[0m | \u001b[32m        0.2859\u001b[0m | \u001b[32m      252.6465\u001b[0m | \n",
      "BayesianOptimization) Score: 0.0343015346611797   Params: {'max_depth': 30.0, 'n_estimators': 252.6464822750103, 'max_features': 0.2858824659528782}\n"
     ]
    },
    {
     "data": {
      "text/plain": [
       "RandomForestRegressor(bootstrap=False, criterion='mse', max_depth=30.0,\n",
       "           max_features=0.2858824659528782, max_leaf_nodes=None,\n",
       "           min_samples_leaf=1, min_samples_split=2,\n",
       "           min_weight_fraction_leaf=0.0, n_estimators=252.6464822750103,\n",
       "           n_jobs=-1, oob_score=False, random_state=1986, verbose=0,\n",
       "           warm_start=False)"
      ]
     },
     "execution_count": 28,
     "metadata": {},
     "output_type": "execute_result"
    }
   ],
   "source": [
    "# O classificar possui diversos parametros diferentes, uma forma de procurar os\n",
    "# melhores parametros é atraves do GridSearchCV do sklearn.\n",
    "# Outra forma, que considero mais eficiente, é a otimização bayesiana, pois ela busca de forma mais inteligente \n",
    "# do que a simples \"força bruta\" aplicada pelo GridSearch.\n",
    "from bayes_opt import BayesianOptimization\n",
    "\n",
    "def model_cv(**params):\n",
    "    params['max_depth'] = int(params['max_depth'])\n",
    "    params['n_estimators'] = int(params['n_estimators'])\n",
    "    return cross_val_score(classifier.set_params(**params), X, y, scoring=scorer, cv=5).mean()\n",
    "\n",
    "param_grid = {\n",
    "    'max_depth': (10, 30),\n",
    "    'max_features': (0.1, 0.5),\n",
    "    'n_estimators': (100, 500)\n",
    "}\n",
    "\n",
    "bo = BayesianOptimization(model_cv, param_grid)\n",
    "bo.maximize(5, 15)\n",
    "print('BayesianOptimization) Score: %.16f   Params: %s' % (abs(bo.res['max']['max_val']),\n",
    "                                                           bo.res['max']['max_params']))\n",
    "classifier.set_params(**bo.res['max']['max_params'])"
   ]
  },
  {
   "cell_type": "markdown",
   "metadata": {},
   "source": [
    "Com esses melhores parâmetros encontrados mudamos nosso score de 0.03458 para 0.03430. Esse é então nosso classificador final para validar a base de teste."
   ]
  },
  {
   "cell_type": "code",
   "execution_count": 44,
   "metadata": {
    "collapsed": false
   },
   "outputs": [
    {
     "data": {
      "text/plain": [
       "(array([-0.03432451, -0.03429006, -0.03455304, -0.03401268, -0.0343274 ]),\n",
       " -0.034301534661179731)"
      ]
     },
     "execution_count": 44,
     "metadata": {},
     "output_type": "execute_result"
    }
   ],
   "source": [
    "classifier = RandomForestRegressor(n_jobs=-1,\n",
    "                                   random_state=1986,\n",
    "                                   bootstrap=False,\n",
    "                                   max_depth=30,\n",
    "                                   max_features=0.285,\n",
    "                                   n_estimators=252) \n",
    "\n",
    "scores = cross_val_score(classifier, X, y, scoring=scorer, cv=5)\n",
    "scores, scores.mean()"
   ]
  },
  {
   "cell_type": "code",
   "execution_count": 45,
   "metadata": {
    "collapsed": true
   },
   "outputs": [],
   "source": [
    "classifier.fit(X, y)\n",
    "\n",
    "y_pred = classifier.predict(df_test[features])\n",
    "result = pd.DataFrame(columns=['id', 'target'])\n",
    "\n",
    "result['id'] = df_test_ids\n",
    "result['target'] = y_pred\n",
    "result.to_csv('result.csv', index=False)"
   ]
  }
 ],
 "metadata": {
  "kernelspec": {
   "display_name": "Python 3",
   "language": "python",
   "name": "python3"
  },
  "language_info": {
   "codemirror_mode": {
    "name": "ipython",
    "version": 3
   },
   "file_extension": ".py",
   "mimetype": "text/x-python",
   "name": "python",
   "nbconvert_exporter": "python",
   "pygments_lexer": "ipython3",
   "version": "3.5.1"
  }
 },
 "nbformat": 4,
 "nbformat_minor": 0
}
